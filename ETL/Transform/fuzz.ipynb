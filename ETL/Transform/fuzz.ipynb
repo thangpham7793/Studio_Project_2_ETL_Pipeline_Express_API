{
 "metadata": {
  "language_info": {
   "codemirror_mode": {
    "name": "ipython",
    "version": 3
   },
   "file_extension": ".py",
   "mimetype": "text/x-python",
   "name": "python",
   "nbconvert_exporter": "python",
   "pygments_lexer": "ipython3",
   "version": "3.8.2-final"
  },
  "orig_nbformat": 2,
  "kernelspec": {
   "name": "python38264bitvenvvenve34b7b48117448d1a916079917e114f5",
   "display_name": "Python 3.8.2 64-bit ('venv': venv)"
  }
 },
 "nbformat": 4,
 "nbformat_minor": 2,
 "cells": [
  {
   "cell_type": "code",
   "execution_count": null,
   "metadata": {},
   "outputs": [],
   "source": [
    "from schema import mine_schema\n",
    "from new_schema import new_schema\n",
    "from fuzzywuzzy import fuzz, process\n",
    "from colnames import colnames\n",
    "import pandas as pd\n",
    "\n",
    "def clear_schema():\n",
    "    for k in new_schema:\n",
    "        new_schema[k] = []\n",
    "\n",
    "def update_new_schema():\n",
    "    f = open('new_schema.py', 'w')\n",
    "    f.write(f'new_schema = {new_schema}')\n",
    "    f.close()\n",
    "\n",
    "def find_matched_colname(target):\n",
    "    found_match = False\n",
    "    for key in new_schema:\n",
    "        if fuzz.partial_ratio(target, key) >= 75:\n",
    "            new_schema[key].append(target)\n",
    "            found_match = True\n",
    "    if found_match == False:\n",
    "        new_schema['keep_it_as_it_is'].append(target)"
   ]
  },
  {
   "cell_type": "code",
   "execution_count": null,
   "metadata": {},
   "outputs": [],
   "source": [
    "def find_close_match(target):\n",
    "    matches = []\n",
    "    for col in standard_colnames:\n",
    "        if fuzz.ratio(target, col) > 80:\n",
    "            matches.append(col)\n",
    "    return matches    "
   ]
  },
  {
   "cell_type": "code",
   "execution_count": null,
   "metadata": {},
   "outputs": [],
   "source": [
    "def find_match(colname):\n",
    "    options = list(new_schema.items())\n",
    "    # matches_count = 0\n",
    "    matches = []\n",
    "    for i in options:\n",
    "        current_values = [i[0]] + i[1]\n",
    "        for v in current_values:\n",
    "            if fuzz.ratio(colname, v) >= 85:\n",
    "                matches.append(i[0])\n",
    "    return (colname, matches)"
   ]
  },
  {
   "cell_type": "code",
   "execution_count": null,
   "metadata": {
    "tags": []
   },
   "outputs": [],
   "source": [
    "f = open('matches.txt', 'w')\n",
    "for c in colnames:\n",
    "    f.write(f'{find_match(c)}\\n')\n",
    "f.close()"
   ]
  },
  {
   "cell_type": "code",
   "execution_count": null,
   "metadata": {},
   "outputs": [],
   "source": [
    "clear_schema()\n",
    "for c in colnames:\n",
    "    find_matched_colname(c)\n",
    "update_new_schema()"
   ]
  },
  {
   "cell_type": "code",
   "execution_count": null,
   "metadata": {},
   "outputs": [],
   "source": [
    "find_match('company')"
   ]
  },
  {
   "cell_type": "code",
   "execution_count": null,
   "metadata": {},
   "outputs": [],
   "source": [
    "# https://www.datacamp.com/community/tutorials/fuzzy-string-python\n",
    "# make it flexible? If high yields no match, then try again\n",
    "def find_best_matches(colname, scorer, score_cutoff):\n",
    "    results_with_scores = process.extractBests(colname, list(new_schema.keys()), scorer=scorer, score_cutoff=score_cutoff)\n",
    "    results_only = list((map(lambda result: result[0], results_with_scores)))\n",
    "    return results_only"
   ]
  },
  {
   "cell_type": "code",
   "execution_count": null,
   "metadata": {},
   "outputs": [],
   "source": [
    "scorers = {\"fuzz.ratio\": fuzz.ratio, \"fuzz.token_set_ratio\": fuzz.token_set_ratio, \"fuzz.token_sort_ratio\": fuzz.token_sort_ratio, \"fuzz.partial_ratio\": fuzz.partial_ratio, \"fuzz.partial_token_set_ratio\": fuzz.partial_token_set_ratio, \"fuzz.partial_token_sort_ratio\": fuzz.partial_token_sort_ratio}"
   ]
  },
  {
   "cell_type": "code",
   "execution_count": null,
   "metadata": {},
   "outputs": [],
   "source": [
    "# write a function that keeps the score for each scorer\n",
    "accuracy_scores = {\"fuzz.ratio\": 0, \"fuzz.token_set_ratio\": 0, \"fuzz.token_sort_ratio\": 0, \"fuzz.partial_ratio\": 0, \"fuzz.partial_token_set_ratio\": 0, \"fuzz.partial_token_sort_ratio\": 0}\n"
   ]
  },
  {
   "cell_type": "code",
   "execution_count": null,
   "metadata": {},
   "outputs": [],
   "source": [
    "def compare_scorers(target, score_cutoff):\n",
    "    res = ''\n",
    "    res += f'Best matches for \"{target.upper()}\" at {score_cutoff}-point threshold\\n\\n'\n",
    "    for s in scorers:\n",
    "        res += f'{s}: {find_best_matches(target, scorer=scorers[s], score_cutoff=score_cutoff)}\\n'\n",
    "    res += f'{20*\"=\"}\\n\\n'\n",
    "    return res"
   ]
  },
  {
   "cell_type": "code",
   "execution_count": null,
   "metadata": {},
   "outputs": [],
   "source": [
    "res_file = open('compare_fuzz_methods.txt', 'w')\n"
   ]
  },
  {
   "cell_type": "code",
   "execution_count": null,
   "metadata": {
    "tags": []
   },
   "outputs": [],
   "source": [
    "for c in colnames:\n",
    "    res_file.write(f'{compare_scorers(c, 75)}')\n",
    "res_file.close()"
   ]
  },
  {
   "cell_type": "code",
   "execution_count": null,
   "metadata": {},
   "outputs": [],
   "source": [
    "# could run all methods on a word and then gather all the choices to present to users\n",
    "\n",
    "def matches_from_all_methods(target, score_cutoff):\n",
    "    res = []\n",
    "    for s in scorers:\n",
    "        res += find_best_matches(target, scorers[s], score_cutoff=score_cutoff)\n",
    "    return list(set(res))"
   ]
  },
  {
   "cell_type": "code",
   "execution_count": null,
   "metadata": {},
   "outputs": [],
   "source": [
    "def matches_for_all_colnames(score_cutoff):\n",
    "    res_file = open('compare_fuzz_methods.txt', 'w')\n",
    "    for col in colnames:\n",
    "        res_file.write('\\n')\n",
    "        res_file.write(f'Matches for {col.upper()} at {score_cutoff}-point threshold\\n\\n')\n",
    "        res_file.write(f'{col}: {matches_from_all_methods(col, score_cutoff)}\\n')\n",
    "        res_file.write(40*'=' + '\\n')\n",
    "    res_file.close()\n",
    "        "
   ]
  },
  {
   "cell_type": "code",
   "execution_count": null,
   "metadata": {
    "tags": []
   },
   "outputs": [],
   "source": [
    "matches_for_all_colnames(60)"
   ]
  },
  {
   "cell_type": "code",
   "execution_count": null,
   "metadata": {},
   "outputs": [],
   "source": []
  }
 ]
}