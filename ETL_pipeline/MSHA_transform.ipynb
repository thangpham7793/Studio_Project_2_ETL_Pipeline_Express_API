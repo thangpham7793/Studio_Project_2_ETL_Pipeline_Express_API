{
 "cells": [
  {
   "cell_type": "code",
   "execution_count": 1,
   "metadata": {},
   "outputs": [],
   "source": [
    "import pandas as pd"
   ]
  },
  {
   "cell_type": "code",
   "execution_count": null,
   "metadata": {},
   "outputs": [],
   "source": [
    "# interesting stuff: https://github.com/catalyst-cooperative/pudl/ \n",
    "# https://datahub.io/zaneselvans/pudl-msha#data-cli (mostly for references)\n",
    "# some fields are based on this form https://www.msha.gov/support-resources/forms-online-filing/2018/05/23/legal-identification-report"
   ]
  },
  {
   "cell_type": "code",
   "execution_count": 2,
   "metadata": {},
   "outputs": [],
   "source": [
    "#read data into pandas dataframe (table)\n",
    "\n",
    "df = pd.read_csv('./data/Mines.txt', sep='|', header=None, encoding='unicode_escape')\n",
    "df.columns = list(df.loc[0, :])\n",
    "df.drop([0], inplace=True)\n",
    "pd.DataFrame.to_csv(df, './data/raw_mines_data.csv', index=False)\n",
    "df = pd.read_csv('./data/raw_mines_data.csv')\n",
    "\n",
    "#read definition into a table for lookup\n",
    "definitions = pd.read_csv('./data/field_definitions.txt', sep='|')\n",
    "definitions.set_index('Field Name', inplace=True)\n",
    "# write definitions to a csv file\n",
    "pd.DataFrame.to_csv(definitions, './data/field_definitions.csv')# write definitions to a csv file\n",
    "pd.DataFrame.to_csv(definitions, './data/field_definitions.csv')"
   ]
  },
  {
   "cell_type": "code",
   "execution_count": 5,
   "metadata": {},
   "outputs": [],
   "source": [
    "#a small function to quickly get the definition of a field/col\n",
    "def getDef(colname):\n",
    "    return definitions.loc[colname.upper()]['Description']"
   ]
  },
  {
   "cell_type": "code",
   "execution_count": 3,
   "metadata": {},
   "outputs": [
    {
     "output_type": "execute_result",
     "data": {
      "text/plain": "(88448, 59)"
     },
     "metadata": {},
     "execution_count": 3
    }
   ],
   "source": [
    "#no. of rows and cols\n",
    "df.shape"
   ]
  },
  {
   "cell_type": "code",
   "execution_count": 4,
   "metadata": {},
   "outputs": [],
   "source": [
    "from MSHA import target_canvasses, target_columns, target_materials, target_statuses, target_types"
   ]
  },
  {
   "cell_type": "code",
   "execution_count": 6,
   "metadata": {},
   "outputs": [],
   "source": [
    "data = df[target_columns]"
   ]
  },
  {
   "cell_type": "code",
   "execution_count": 21,
   "metadata": {},
   "outputs": [],
   "source": [
    "#form a true/false vector from one of the column\n",
    "is_target_status = data['CURRENT_MINE_STATUS'].apply(lambda x: x in target_statuses)"
   ]
  },
  {
   "cell_type": "code",
   "execution_count": 22,
   "metadata": {},
   "outputs": [
    {
     "output_type": "execute_result",
     "data": {
      "text/plain": "12623"
     },
     "metadata": {},
     "execution_count": 22
    }
   ],
   "source": [
    "#the result is down to just over 12000 when applied the status filter\n",
    "len(df[is_target_status])"
   ]
  },
  {
   "cell_type": "code",
   "execution_count": 23,
   "metadata": {},
   "outputs": [],
   "source": [
    "is_target_type = data['CURRENT_MINE_TYPE'].apply(lambda x: x in target_types)"
   ]
  },
  {
   "cell_type": "code",
   "execution_count": 24,
   "metadata": {},
   "outputs": [
    {
     "output_type": "execute_result",
     "data": {
      "text/plain": "70853"
     },
     "metadata": {},
     "execution_count": 24
    }
   ],
   "source": [
    "len(df[is_target_type])"
   ]
  },
  {
   "cell_type": "code",
   "execution_count": 25,
   "metadata": {},
   "outputs": [],
   "source": [
    "# create two true/false vectors based on each product column\n",
    "\n",
    "# for every row, check if the primary_sic cell's value is in target_materials \n",
    "is_target_primary_material = df['PRIMARY_SIC'].apply(lambda x: x in target_materials)\n",
    "is_target_secondary_material = df['SECONDARY_SIC'].apply(lambda x: x in target_materials)\n",
    "\n",
    "# any mine whose primary OR secondary product fall into the list count.\n",
    "is_target_material = is_target_primary_material | is_target_secondary_material"
   ]
  },
  {
   "cell_type": "code",
   "execution_count": 26,
   "metadata": {},
   "outputs": [
    {
     "output_type": "execute_result",
     "data": {
      "text/plain": "45354"
     },
     "metadata": {},
     "execution_count": 26
    }
   ],
   "source": [
    "# testing above condition. Seems like only half of the mines produce what Eric wants\n",
    "len(data[is_target_materials])"
   ]
  },
  {
   "cell_type": "code",
   "execution_count": 27,
   "metadata": {},
   "outputs": [],
   "source": [
    "# same as above, but for canvass this time\n",
    "is_target_primary_canvass = data['PRIMARY_CANVASS'].apply(lambda x: x in target_canvasses)\n",
    "is_target_secondary_canvass = data['SECONDARY_CANVASS'].apply(lambda x: x in target_canvasses)\n",
    "\n",
    "# combine into one condition\n",
    "is_target_canvass = is_target_primary_canvass | is_target_secondary_canvass"
   ]
  },
  {
   "cell_type": "code",
   "execution_count": 28,
   "metadata": {},
   "outputs": [],
   "source": [
    "# now we combine all conditions into one big filter\n",
    "conditions = (is_target_status & is_target_material & is_target_canvass & is_target_type)"
   ]
  },
  {
   "cell_type": "code",
   "execution_count": 29,
   "metadata": {},
   "outputs": [
    {
     "output_type": "execute_result",
     "data": {
      "text/plain": "10689"
     },
     "metadata": {},
     "execution_count": 29
    }
   ],
   "source": [
    "filtered_data = data[conditions]\n",
    "len(filtered_data)"
   ]
  },
  {
   "cell_type": "code",
   "execution_count": 30,
   "metadata": {},
   "outputs": [],
   "source": [
    "# save filtered_data to a csv file\n",
    "pd.DataFrame.to_csv(filtered_data, './data/filtered_mine_data.csv')"
   ]
  }
 ],
 "metadata": {
  "language_info": {
   "codemirror_mode": {
    "name": "ipython",
    "version": 3
   },
   "file_extension": ".py",
   "mimetype": "text/x-python",
   "name": "python",
   "nbconvert_exporter": "python",
   "pygments_lexer": "ipython3",
   "version": "3.8.2-final"
  },
  "orig_nbformat": 2,
  "kernelspec": {
   "name": "python38264bitvenvvenvfd454f2dc06d49eabfd9fc07a02f0914",
   "display_name": "Python 3.8.2 64-bit ('venv': venv)"
  }
 },
 "nbformat": 4,
 "nbformat_minor": 2
}