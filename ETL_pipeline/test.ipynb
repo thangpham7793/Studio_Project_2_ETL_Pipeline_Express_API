{
 "metadata": {
  "language_info": {
   "codemirror_mode": {
    "name": "ipython",
    "version": 3
   },
   "file_extension": ".py",
   "mimetype": "text/x-python",
   "name": "python",
   "nbconvert_exporter": "python",
   "pygments_lexer": "ipython3",
   "version": "3.8.1-final"
  },
  "orig_nbformat": 2,
  "kernelspec": {
   "name": "python38132bitvenvvenvbb3cc1c5390f40d5bea5b8e405f24d0c",
   "display_name": "Python 3.8.1 32-bit ('venv': venv)"
  }
 },
 "nbformat": 4,
 "nbformat_minor": 2,
 "cells": [
  {
   "cell_type": "code",
   "execution_count": 3,
   "metadata": {},
   "outputs": [],
   "source": [
    "from classes.Load import Load"
   ]
  },
  {
   "cell_type": "code",
   "execution_count": 4,
   "metadata": {},
   "outputs": [],
   "source": [
    "loader = Load()"
   ]
  },
  {
   "cell_type": "code",
   "execution_count": 15,
   "metadata": {},
   "outputs": [],
   "source": [
    "file_path = 'C:/Users/chick/Desktop/Uni/COMP372/Master Data/Signal_Studio_Project2/Thang/data/raw_mines_data.csv'\n",
    "#file_path = file_path.replace(\"\\\",\"\\/\")\n",
    "df = loader.to_df(file_path)"
   ]
  },
  {
   "cell_type": "code",
   "execution_count": 16,
   "metadata": {},
   "outputs": [
    {
     "output_type": "execute_result",
     "data": {
      "text/plain": "   MINE_ID     CURRENT_MINE_NAME COAL_METAL_IND CURRENT_MINE_TYPE  \\\n0   100003  O'Neal Quarry & Mill              M           Surface   \n1   100004     Brierfield Quarry              M           Surface   \n2   100005      Birmingham Plant              M           Surface   \n3   100006         Auburn Quarry              M           Surface   \n4   100008        Landmark Plant              M           Surface   \n\n  CURRENT_MINE_STATUS CURRENT_STATUS_DT CURRENT_CONTROLLER_ID  \\\n0              Active        01/22/1979               0041044   \n1              Active        03/04/2003               0041044   \n2           Abandoned        08/15/1989               0041044   \n3              Active        09/24/1976                M00174   \n4              Active        11/14/1975                M31753   \n\n         CURRENT_CONTROLLER_NAME CURRENT_OPERATOR_ID  \\\n0                   Lhoist Group              L13586   \n1                   Lhoist Group              L13586   \n2                   Lhoist Group              L10998   \n3  Martin Marietta Materials Inc              L16197   \n4                 Alan B  Cheney              L31753   \n\n                  CURRENT_OPERATOR_NAME  ... NO_NONPRODUCING_PITS  \\\n0  Lhoist North America of Alabama, LLC  ...            no record   \n1  Lhoist North America of Alabama, LLC  ...            no record   \n2                   Allied Lime Company  ...            no record   \n3       Martin Marietta Materials, Inc.  ...            no record   \n4          Cheney Lime & Cement Company  ...            no record   \n\n   NO_TAILING_PONDS  PILLAR_RECOVERY_USED HIGHWALL_MINER_USED MULTIPLE_PITS  \\\n0                 0                     N                   N             N   \n1                 0                     N                   N             N   \n2         no record                     N                   N             N   \n3                 0                     N                   N             N   \n4                 0                     N                   N             N   \n\n  MINERS_REP_IND SAFETY_COMMITTEE_IND MILES_FROM_OFFICE  \\\n0              N                    N               100   \n1              N                    N                35   \n2              N                    N                 0   \n3              N                    N               140   \n4              N                    N                25   \n\n                                  DIRECTIONS_TO_MINE NEAREST_TOWN  \n0  Approx 7 miles south of the city of Alabaster ...       Calera  \n1  I-65 SOUTH EXIT US 31 TO CALERA, TURN RIGHT ON...   Brierfield  \n2                                          no record    no record  \n3  85 to Hwy. 29 South to County Rd. 10; turn lef...       Auburn  \n4  I-65 S to exit 238; right on Hwy 31 1/8 miles ...    Alabaster  \n\n[5 rows x 59 columns]",
      "text/html": "<div>\n<style scoped>\n    .dataframe tbody tr th:only-of-type {\n        vertical-align: middle;\n    }\n\n    .dataframe tbody tr th {\n        vertical-align: top;\n    }\n\n    .dataframe thead th {\n        text-align: right;\n    }\n</style>\n<table border=\"1\" class=\"dataframe\">\n  <thead>\n    <tr style=\"text-align: right;\">\n      <th></th>\n      <th>MINE_ID</th>\n      <th>CURRENT_MINE_NAME</th>\n      <th>COAL_METAL_IND</th>\n      <th>CURRENT_MINE_TYPE</th>\n      <th>CURRENT_MINE_STATUS</th>\n      <th>CURRENT_STATUS_DT</th>\n      <th>CURRENT_CONTROLLER_ID</th>\n      <th>CURRENT_CONTROLLER_NAME</th>\n      <th>CURRENT_OPERATOR_ID</th>\n      <th>CURRENT_OPERATOR_NAME</th>\n      <th>...</th>\n      <th>NO_NONPRODUCING_PITS</th>\n      <th>NO_TAILING_PONDS</th>\n      <th>PILLAR_RECOVERY_USED</th>\n      <th>HIGHWALL_MINER_USED</th>\n      <th>MULTIPLE_PITS</th>\n      <th>MINERS_REP_IND</th>\n      <th>SAFETY_COMMITTEE_IND</th>\n      <th>MILES_FROM_OFFICE</th>\n      <th>DIRECTIONS_TO_MINE</th>\n      <th>NEAREST_TOWN</th>\n    </tr>\n  </thead>\n  <tbody>\n    <tr>\n      <th>0</th>\n      <td>100003</td>\n      <td>O'Neal Quarry &amp; Mill</td>\n      <td>M</td>\n      <td>Surface</td>\n      <td>Active</td>\n      <td>01/22/1979</td>\n      <td>0041044</td>\n      <td>Lhoist Group</td>\n      <td>L13586</td>\n      <td>Lhoist North America of Alabama, LLC</td>\n      <td>...</td>\n      <td>no record</td>\n      <td>0</td>\n      <td>N</td>\n      <td>N</td>\n      <td>N</td>\n      <td>N</td>\n      <td>N</td>\n      <td>100</td>\n      <td>Approx 7 miles south of the city of Alabaster ...</td>\n      <td>Calera</td>\n    </tr>\n    <tr>\n      <th>1</th>\n      <td>100004</td>\n      <td>Brierfield Quarry</td>\n      <td>M</td>\n      <td>Surface</td>\n      <td>Active</td>\n      <td>03/04/2003</td>\n      <td>0041044</td>\n      <td>Lhoist Group</td>\n      <td>L13586</td>\n      <td>Lhoist North America of Alabama, LLC</td>\n      <td>...</td>\n      <td>no record</td>\n      <td>0</td>\n      <td>N</td>\n      <td>N</td>\n      <td>N</td>\n      <td>N</td>\n      <td>N</td>\n      <td>35</td>\n      <td>I-65 SOUTH EXIT US 31 TO CALERA, TURN RIGHT ON...</td>\n      <td>Brierfield</td>\n    </tr>\n    <tr>\n      <th>2</th>\n      <td>100005</td>\n      <td>Birmingham Plant</td>\n      <td>M</td>\n      <td>Surface</td>\n      <td>Abandoned</td>\n      <td>08/15/1989</td>\n      <td>0041044</td>\n      <td>Lhoist Group</td>\n      <td>L10998</td>\n      <td>Allied Lime Company</td>\n      <td>...</td>\n      <td>no record</td>\n      <td>no record</td>\n      <td>N</td>\n      <td>N</td>\n      <td>N</td>\n      <td>N</td>\n      <td>N</td>\n      <td>0</td>\n      <td>no record</td>\n      <td>no record</td>\n    </tr>\n    <tr>\n      <th>3</th>\n      <td>100006</td>\n      <td>Auburn Quarry</td>\n      <td>M</td>\n      <td>Surface</td>\n      <td>Active</td>\n      <td>09/24/1976</td>\n      <td>M00174</td>\n      <td>Martin Marietta Materials Inc</td>\n      <td>L16197</td>\n      <td>Martin Marietta Materials, Inc.</td>\n      <td>...</td>\n      <td>no record</td>\n      <td>0</td>\n      <td>N</td>\n      <td>N</td>\n      <td>N</td>\n      <td>N</td>\n      <td>N</td>\n      <td>140</td>\n      <td>85 to Hwy. 29 South to County Rd. 10; turn lef...</td>\n      <td>Auburn</td>\n    </tr>\n    <tr>\n      <th>4</th>\n      <td>100008</td>\n      <td>Landmark Plant</td>\n      <td>M</td>\n      <td>Surface</td>\n      <td>Active</td>\n      <td>11/14/1975</td>\n      <td>M31753</td>\n      <td>Alan B  Cheney</td>\n      <td>L31753</td>\n      <td>Cheney Lime &amp; Cement Company</td>\n      <td>...</td>\n      <td>no record</td>\n      <td>0</td>\n      <td>N</td>\n      <td>N</td>\n      <td>N</td>\n      <td>N</td>\n      <td>N</td>\n      <td>25</td>\n      <td>I-65 S to exit 238; right on Hwy 31 1/8 miles ...</td>\n      <td>Alabaster</td>\n    </tr>\n  </tbody>\n</table>\n<p>5 rows × 59 columns</p>\n</div>"
     },
     "metadata": {},
     "execution_count": 16
    }
   ],
   "source": [
    "df"
   ]
  },
  {
   "cell_type": "code",
   "execution_count": null,
   "metadata": {},
   "outputs": [],
   "source": []
  }
 ]
}