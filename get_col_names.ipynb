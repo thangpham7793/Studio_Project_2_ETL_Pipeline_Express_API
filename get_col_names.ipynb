{
 "cells": [
  {
   "cell_type": "code",
   "execution_count": 1,
   "metadata": {},
   "outputs": [],
   "source": [
    "import pandas as pd"
   ]
  },
  {
   "cell_type": "code",
   "execution_count": 14,
   "metadata": {},
   "outputs": [],
   "source": [
    "import os"
   ]
  },
  {
   "cell_type": "code",
   "execution_count": 30,
   "metadata": {
    "tags": []
   },
   "outputs": [],
   "source": [
    "folder_path = './data/'\n",
    "for file in os.listdir(folder_path):\n",
    "    file_path = os.path.join(folder_path, file)\n",
    "    if os.path.isfile(file_path):\n",
    "        if file.endswith('.csv'):\n",
    "            get_col_names(file_path)\n",
    "        #print(file)"
   ]
  },
  {
   "cell_type": "code",
   "execution_count": 29,
   "metadata": {},
   "outputs": [],
   "source": [
    "def get_col_names(file_path):\n",
    "    df = pd.read_csv(file_path)\n",
    "    f = open('colnames.txt', 'a')\n",
    "    for col in list(df.columns):\n",
    "        f.write(col + '\\n')\n",
    "    f.close()"
   ]
  },
  {
   "cell_type": "code",
   "execution_count": 2,
   "metadata": {},
   "outputs": [],
   "source": [
    "df = pd.read_csv('./data/Mines.txt', sep='|', header=None, encoding='unicode_escape')"
   ]
  },
  {
   "cell_type": "code",
   "execution_count": 7,
   "metadata": {},
   "outputs": [],
   "source": [
    "df.columns = list(df.loc[0, :])\n",
    "df.drop([0], inplace=True)"
   ]
  },
  {
   "cell_type": "code",
   "execution_count": 13,
   "metadata": {},
   "outputs": [],
   "source": []
  },
  {
   "cell_type": "code",
   "execution_count": 10,
   "metadata": {},
   "outputs": [
    {
     "output_type": "execute_result",
     "data": {
      "text/plain": "['MINE_ID',\n 'CURRENT_MINE_NAME',\n 'COAL_METAL_IND',\n 'CURRENT_MINE_TYPE',\n 'CURRENT_MINE_STATUS',\n 'CURRENT_STATUS_DT',\n 'CURRENT_CONTROLLER_ID',\n 'CURRENT_CONTROLLER_NAME',\n 'CURRENT_OPERATOR_ID',\n 'CURRENT_OPERATOR_NAME',\n 'STATE',\n 'BOM_STATE_CD',\n 'FIPS_CNTY_CD',\n 'FIPS_CNTY_NM',\n 'CONG_DIST_CD',\n 'COMPANY_TYPE',\n 'CURRENT_CONTROLLER_BEGIN_DT',\n 'DISTRICT',\n 'OFFICE_CD',\n 'OFFICE_NAME',\n 'ASSESS_CTRL_NO',\n 'PRIMARY_SIC_CD',\n 'PRIMARY_SIC',\n 'PRIMARY_SIC_CD_1',\n 'PRIMARY_SIC_CD_SFX',\n 'SECONDARY_SIC_CD',\n 'SECONDARY_SIC',\n 'SECONDARY_SIC_CD_1',\n 'SECONDARY_SIC_CD_SFX',\n 'PRIMARY_CANVASS_CD',\n 'PRIMARY_CANVASS',\n 'SECONDARY_CANVASS_CD',\n 'SECONDARY_CANVASS',\n 'CURRENT_103I',\n 'CURRENT_103I_DT',\n 'PORTABLE_OPERATION',\n 'PORTABLE_FIPS_ST_CD',\n 'DAYS_PER_WEEK',\n 'HOURS_PER_SHIFT',\n 'PROD_SHIFTS_PER_DAY',\n 'MAINT_SHIFTS_PER_DAY',\n 'NO_EMPLOYEES',\n 'PART48_TRAINING',\n 'LONGITUDE',\n 'LATITUDE',\n 'AVG_MINE_HEIGHT',\n 'MINE_GAS_CATEGORY_CD',\n 'METHANE_LIBERATION',\n 'NO_PRODUCING_PITS',\n 'NO_NONPRODUCING_PITS',\n 'NO_TAILING_PONDS',\n 'PILLAR_RECOVERY_USED',\n 'HIGHWALL_MINER_USED',\n 'MULTIPLE_PITS',\n 'MINERS_REP_IND',\n 'SAFETY_COMMITTEE_IND',\n 'MILES_FROM_OFFICE',\n 'DIRECTIONS_TO_MINE',\n 'NEAREST_TOWN']"
     },
     "metadata": {},
     "execution_count": 10
    }
   ],
   "source": [
    "list(df.columns)"
   ]
  },
  {
   "cell_type": "code",
   "execution_count": null,
   "metadata": {},
   "outputs": [],
   "source": []
  }
 ],
 "metadata": {
  "language_info": {
   "codemirror_mode": {
    "name": "ipython",
    "version": 3
   },
   "file_extension": ".py",
   "mimetype": "text/x-python",
   "name": "python",
   "nbconvert_exporter": "python",
   "pygments_lexer": "ipython3",
   "version": "3.8.2-final"
  },
  "orig_nbformat": 2,
  "kernelspec": {
   "name": "python38264bitvenvvenvfd454f2dc06d49eabfd9fc07a02f0914",
   "display_name": "Python 3.8.2 64-bit ('venv': venv)"
  }
 },
 "nbformat": 4,
 "nbformat_minor": 2
}