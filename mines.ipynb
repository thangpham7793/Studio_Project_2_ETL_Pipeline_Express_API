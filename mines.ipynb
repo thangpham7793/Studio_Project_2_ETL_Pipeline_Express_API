{
 "cells": [
  {
   "cell_type": "code",
   "execution_count": 1,
   "metadata": {},
   "outputs": [],
   "source": [
    "import pandas as pd"
   ]
  },
  {
   "cell_type": "code",
   "execution_count": null,
   "metadata": {},
   "outputs": [],
   "source": [
    "# interesting stuff: https://github.com/catalyst-cooperative/pudl/ \n",
    "# https://datahub.io/zaneselvans/pudl-msha#data-cli (mostly for references)\n",
    "# some fields are based on this form https://www.msha.gov/support-resources/forms-online-filing/2018/05/23/legal-identification-report"
   ]
  },
  {
   "cell_type": "code",
   "execution_count": 2,
   "metadata": {},
   "outputs": [],
   "source": [
    "#read data into pandas dataframe (table)\n",
    "\n",
    "df = pd.read_csv('./data/Mines.txt', sep='|', header=None, encoding='unicode_escape')\n",
    "df.columns = list(df.loc[0, :])\n",
    "df.drop([0], inplace=True)\n",
    "pd.DataFrame.to_csv(df, './data/raw_mines_data.csv', index=False)\n",
    "df = pd.read_csv('./data/raw_mines_data.csv')\n",
    "\n",
    "#read definition into a table for lookup\n",
    "definitions = pd.read_csv('./data/field_definitions.txt', sep='|')\n",
    "definitions.set_index('Field Name', inplace=True)"
   ]
  },
  {
   "cell_type": "code",
   "execution_count": 35,
   "metadata": {},
   "outputs": [],
   "source": [
    "# write definitions to a csv file\n",
    "pd.DataFrame.to_csv(definitions, './data/field_definitions.csv')"
   ]
  },
  {
   "cell_type": "code",
   "execution_count": 59,
   "metadata": {},
   "outputs": [
    {
     "output_type": "execute_result",
     "data": {
      "text/plain": "['MINE_ID',\n 'CURRENT_MINE_NAME',\n 'COAL_METAL_IND',\n 'CURRENT_MINE_TYPE',\n 'CURRENT_MINE_STATUS',\n 'CURRENT_STATUS_DT',\n 'CURRENT_CONTROLLER_ID',\n 'CURRENT_CONTROLLER_NAME',\n 'CURRENT_OPERATOR_ID',\n 'CURRENT_OPERATOR_NAME',\n 'STATE',\n 'BOM_STATE_CD',\n 'FIPS_CNTY_CD',\n 'FIPS_CNTY_NM',\n 'CONG_DIST_CD',\n 'COMPANY_TYPE',\n 'CURRENT_CONTROLLER_BEGIN_DT',\n 'DISTRICT',\n 'OFFICE_CD',\n 'OFFICE_NAME',\n 'ASSESS_CTRL_NO',\n 'PRIMARY_SIC_CD',\n 'PRIMARY_SIC',\n 'PRIMARY_SIC_CD_1',\n 'PRIMARY_SIC_CD_SFX',\n 'SECONDARY_SIC_CD',\n 'SECONDARY_SIC',\n 'SECONDARY_SIC_CD_1',\n 'SECONDARY_SIC_CD_SFX',\n 'PRIMARY_CANVASS_CD',\n 'PRIMARY_CANVASS',\n 'SECONDARY_CANVASS_CD',\n 'SECONDARY_CANVASS',\n 'CURRENT_103I',\n 'CURRENT_103I_DT',\n 'PORTABLE_OPERATION',\n 'PORTABLE_FIPS_ST_CD',\n 'DAYS_PER_WEEK',\n 'HOURS_PER_SHIFT',\n 'PROD_SHIFTS_PER_DAY',\n 'MAINT_SHIFTS_PER_DAY',\n 'NO_EMPLOYEES',\n 'PART48_TRAINING',\n 'LONGITUDE',\n 'LATITUDE',\n 'AVG_MINE_HEIGHT',\n 'MINE_GAS_CATEGORY_CD',\n 'METHANE_LIBERATION',\n 'NO_PRODUCING_PITS',\n 'NO_NONPRODUCING_PITS',\n 'NO_TAILING_PONDS',\n 'PILLAR_RECOVERY_USED',\n 'HIGHWALL_MINER_USED',\n 'MULTIPLE_PITS',\n 'MINERS_REP_IND',\n 'SAFETY_COMMITTEE_IND',\n 'MILES_FROM_OFFICE',\n 'DIRECTIONS_TO_MINE',\n 'NEAREST_TOWN']"
     },
     "metadata": {},
     "execution_count": 59
    }
   ],
   "source": [
    "#list all field names\n",
    "list(df.columns)"
   ]
  },
  {
   "cell_type": "code",
   "execution_count": 34,
   "metadata": {},
   "outputs": [
    {
     "output_type": "execute_result",
     "data": {
      "text/plain": "                                                                   Description  \\\nField Name                                                                       \nMINE_ID                      Identification number assigned to the mine by ...   \nCURRENT_MINE_NAME            Name of the mine as designated on the Legal ID...   \nCOAL_METAL_IND               Identifies if the mine is a Coal or Metal/Non-...   \nCURRENT_MINE_TYPE            From the Legal ID (LID) form. The types are Fa...   \nCURRENT_MINE_STATUS          Current status of the mine. Values are Abandon...   \nCURRENT_STATUS_DT            Date the mine obtained the current status from...   \nCURRENT_CONTROLLER_ID        Identification number assigned by MSHA Assessm...   \nCURRENT_CONTROLLER_NAME      Either the business name or a person's name fo...   \nCURRENT_OPERATOR_ID          Identification number assigned by MSHA Assessm...   \nCURRENT_OPERATOR_NAME        The latest operator name as updated by a LID (...   \nSTATE                        State in which the mine is located. Standard s...   \nBOM_STATE_CD                       Bureau of Mines (BOM) assigned state codes.   \nFIPS_CNTY_CD                 Federal Information Processing Standard county...   \nFIPS_CNTY_NM                 Federal Information Processing Standards (FIPS...   \nCONG_DIST_CD                 The Congressional District of the state in whi...   \nCOMPANY_TYPE                 Unique description for each legal entity type....   \nCURRENT_CONTROLLER_BEGIN_DT  Start date of the operating period at the mine...   \nDISTRICT                     The first three characters of the Coal distric...   \nOFFICE_CD                    MSHA code that identifies the office to which ...   \nOFFICE_NAME                  The name of the office to which the mine is as...   \nASSESS_CTRL_NO               The most recent Assessment Control Number for ...   \nPRIMARY_SIC_CD               This is a code derived from the SIC codes to u...   \nPRIMARY_SIC                  Description of the Standard Industrial Classif...   \nPRIMARY_SIC_CD_1             Standard Industrial Classification Code that i...   \nPRIMARY_SIC_CD_SFX           Suffix to the Standard Industrial Classificati...   \nSECONDARY_SIC_CD             This is a code derived from the Standard Indus...   \nSECONDARY_SIC                Description of the Standard Industrial Classif...   \nSECONDARY_SIC_CD_1           Standard Industrial Classification Code (SIC) ...   \nSECONDARY_SIC_CD_SFX         Suffix to the Standard Industrial Classificati...   \nPRIMARY_CANVASS_CD           Canvass code associated with the primary commo...   \nPRIMARY_CANVASS              Unique code abbreviation for the primary indus...   \nSECONDARY_CANVASS_CD         Canvass code associated with the secondary com...   \nSECONDARY_CANVASS            Unique code abbreviation for the secondary ind...   \nCURRENT_103I                 This is the description of the Mine 103I Class...   \nCURRENT_103I_DT              The date the mine entered the current 103I sta...   \nPORTABLE_OPERATION           Indicates whether this is a portable mine or n...   \nPORTABLE_FIPS_ST_CD          The Federal Information Processing Standards (...   \nDAYS_PER_WEEK                Number of days per week that the mine is opera...   \nHOURS_PER_SHIFT              Number of hours per shift at the mine. Entered...   \nPROD_SHIFTS_PER_DAY          Number of production shifts per 24-hour day. E...   \nMAINT_SHIFTS_PER_DAY         Number of maintenance-only shifts per 24-hour ...   \nNO_EMPLOYEES                 Number of workers employed at the mine. Entere...   \nPART48_TRAINING              Indicates whether MSHA is restricted from enfo...   \nLONGITUDE                    Longitude denoting the mine location shown in ...   \nLATITUDE                     Latitude denoting the mine location shown in t...   \nAVG_MINE_HEIGHT              Average mining height in inches. Coal mines on...   \nMINE_GAS_CATEGORY_CD         This categorization is used by underground Met...   \nMETHANE_LIBERATION           Methane Liberation on Section (cubic feet each...   \nNO_PRODUCING_PITS            Number of pits that are actively producing mat...   \nNO_NONPRODUCING_PITS         Number of pits that are not producing material...   \nNO_TAILING_PONDS             Number of tailing ponds (Metal/Non-Metal mines...   \nPILLAR_RECOVERY_USED         Indicator denoting whether or not a mine uses ...   \nHIGHWALL_MINER_USED          Indicator denoting whether or not a mine uses ...   \nMULTIPLE_PITS                Indicates whether there are multiple pits at t...   \nMINERS_REP_IND               Indicates where there is a miners' representat...   \nSAFETY_COMMITTEE_IND                                    Values are 'Y' or 'N'.   \nMILES_FROM_OFFICE            Driving distance to the mine/mill from the off...   \nDIRECTIONS_TO_MINE           Free-form description of directions on how to ...   \nNEAREST_TOWN                 Nearest town or city. Entered on Mine Informat...   \n\n                                 Type (Format)  \nField Name                                      \nMINE_ID                      integer (default)  \nCURRENT_MINE_NAME             string (default)  \nCOAL_METAL_IND                string (default)  \nCURRENT_MINE_TYPE             string (default)  \nCURRENT_MINE_STATUS           string (default)  \nCURRENT_STATUS_DT              date (%Y-%m-%d)  \nCURRENT_CONTROLLER_ID         string (default)  \nCURRENT_CONTROLLER_NAME       string (default)  \nCURRENT_OPERATOR_ID           string (default)  \nCURRENT_OPERATOR_NAME         string (default)  \nSTATE                         string (default)  \nBOM_STATE_CD                 integer (default)  \nFIPS_CNTY_CD                 integer (default)  \nFIPS_CNTY_NM                  string (default)  \nCONG_DIST_CD                 integer (default)  \nCOMPANY_TYPE                  string (default)  \nCURRENT_CONTROLLER_BEGIN_DT    date (%Y-%m-%d)  \nDISTRICT                      string (default)  \nOFFICE_CD                     string (default)  \nOFFICE_NAME                   string (default)  \nASSESS_CTRL_NO                string (default)  \nPRIMARY_SIC_CD               integer (default)  \nPRIMARY_SIC                   string (default)  \nPRIMARY_SIC_CD_1              string (default)  \nPRIMARY_SIC_CD_SFX            string (default)  \nSECONDARY_SIC_CD             integer (default)  \nSECONDARY_SIC                 string (default)  \nSECONDARY_SIC_CD_1            string (default)  \nSECONDARY_SIC_CD_SFX          string (default)  \nPRIMARY_CANVASS_CD           integer (default)  \nPRIMARY_CANVASS               string (default)  \nSECONDARY_CANVASS_CD         integer (default)  \nSECONDARY_CANVASS             string (default)  \nCURRENT_103I                  string (default)  \nCURRENT_103I_DT                date (%Y-%m-%d)  \nPORTABLE_OPERATION           boolean (default)  \nPORTABLE_FIPS_ST_CD          integer (default)  \nDAYS_PER_WEEK                integer (default)  \nHOURS_PER_SHIFT              integer (default)  \nPROD_SHIFTS_PER_DAY          integer (default)  \nMAINT_SHIFTS_PER_DAY         integer (default)  \nNO_EMPLOYEES                 integer (default)  \nPART48_TRAINING              boolean (default)  \nLONGITUDE                     number (default)  \nLATITUDE                      number (default)  \nAVG_MINE_HEIGHT               number (default)  \nMINE_GAS_CATEGORY_CD          string (default)  \nMETHANE_LIBERATION            number (default)  \nNO_PRODUCING_PITS            integer (default)  \nNO_NONPRODUCING_PITS         integer (default)  \nNO_TAILING_PONDS             integer (default)  \nPILLAR_RECOVERY_USED         boolean (default)  \nHIGHWALL_MINER_USED          boolean (default)  \nMULTIPLE_PITS                boolean (default)  \nMINERS_REP_IND               boolean (default)  \nSAFETY_COMMITTEE_IND         boolean (default)  \nMILES_FROM_OFFICE             number (default)  \nDIRECTIONS_TO_MINE            string (default)  \nNEAREST_TOWN                  string (default)  ",
      "text/html": "<div>\n<style scoped>\n    .dataframe tbody tr th:only-of-type {\n        vertical-align: middle;\n    }\n\n    .dataframe tbody tr th {\n        vertical-align: top;\n    }\n\n    .dataframe thead th {\n        text-align: right;\n    }\n</style>\n<table border=\"1\" class=\"dataframe\">\n  <thead>\n    <tr style=\"text-align: right;\">\n      <th></th>\n      <th>Description</th>\n      <th>Type (Format)</th>\n    </tr>\n    <tr>\n      <th>Field Name</th>\n      <th></th>\n      <th></th>\n    </tr>\n  </thead>\n  <tbody>\n    <tr>\n      <th>MINE_ID</th>\n      <td>Identification number assigned to the mine by ...</td>\n      <td>integer (default)</td>\n    </tr>\n    <tr>\n      <th>CURRENT_MINE_NAME</th>\n      <td>Name of the mine as designated on the Legal ID...</td>\n      <td>string (default)</td>\n    </tr>\n    <tr>\n      <th>COAL_METAL_IND</th>\n      <td>Identifies if the mine is a Coal or Metal/Non-...</td>\n      <td>string (default)</td>\n    </tr>\n    <tr>\n      <th>CURRENT_MINE_TYPE</th>\n      <td>From the Legal ID (LID) form. The types are Fa...</td>\n      <td>string (default)</td>\n    </tr>\n    <tr>\n      <th>CURRENT_MINE_STATUS</th>\n      <td>Current status of the mine. Values are Abandon...</td>\n      <td>string (default)</td>\n    </tr>\n    <tr>\n      <th>CURRENT_STATUS_DT</th>\n      <td>Date the mine obtained the current status from...</td>\n      <td>date (%Y-%m-%d)</td>\n    </tr>\n    <tr>\n      <th>CURRENT_CONTROLLER_ID</th>\n      <td>Identification number assigned by MSHA Assessm...</td>\n      <td>string (default)</td>\n    </tr>\n    <tr>\n      <th>CURRENT_CONTROLLER_NAME</th>\n      <td>Either the business name or a person's name fo...</td>\n      <td>string (default)</td>\n    </tr>\n    <tr>\n      <th>CURRENT_OPERATOR_ID</th>\n      <td>Identification number assigned by MSHA Assessm...</td>\n      <td>string (default)</td>\n    </tr>\n    <tr>\n      <th>CURRENT_OPERATOR_NAME</th>\n      <td>The latest operator name as updated by a LID (...</td>\n      <td>string (default)</td>\n    </tr>\n    <tr>\n      <th>STATE</th>\n      <td>State in which the mine is located. Standard s...</td>\n      <td>string (default)</td>\n    </tr>\n    <tr>\n      <th>BOM_STATE_CD</th>\n      <td>Bureau of Mines (BOM) assigned state codes.</td>\n      <td>integer (default)</td>\n    </tr>\n    <tr>\n      <th>FIPS_CNTY_CD</th>\n      <td>Federal Information Processing Standard county...</td>\n      <td>integer (default)</td>\n    </tr>\n    <tr>\n      <th>FIPS_CNTY_NM</th>\n      <td>Federal Information Processing Standards (FIPS...</td>\n      <td>string (default)</td>\n    </tr>\n    <tr>\n      <th>CONG_DIST_CD</th>\n      <td>The Congressional District of the state in whi...</td>\n      <td>integer (default)</td>\n    </tr>\n    <tr>\n      <th>COMPANY_TYPE</th>\n      <td>Unique description for each legal entity type....</td>\n      <td>string (default)</td>\n    </tr>\n    <tr>\n      <th>CURRENT_CONTROLLER_BEGIN_DT</th>\n      <td>Start date of the operating period at the mine...</td>\n      <td>date (%Y-%m-%d)</td>\n    </tr>\n    <tr>\n      <th>DISTRICT</th>\n      <td>The first three characters of the Coal distric...</td>\n      <td>string (default)</td>\n    </tr>\n    <tr>\n      <th>OFFICE_CD</th>\n      <td>MSHA code that identifies the office to which ...</td>\n      <td>string (default)</td>\n    </tr>\n    <tr>\n      <th>OFFICE_NAME</th>\n      <td>The name of the office to which the mine is as...</td>\n      <td>string (default)</td>\n    </tr>\n    <tr>\n      <th>ASSESS_CTRL_NO</th>\n      <td>The most recent Assessment Control Number for ...</td>\n      <td>string (default)</td>\n    </tr>\n    <tr>\n      <th>PRIMARY_SIC_CD</th>\n      <td>This is a code derived from the SIC codes to u...</td>\n      <td>integer (default)</td>\n    </tr>\n    <tr>\n      <th>PRIMARY_SIC</th>\n      <td>Description of the Standard Industrial Classif...</td>\n      <td>string (default)</td>\n    </tr>\n    <tr>\n      <th>PRIMARY_SIC_CD_1</th>\n      <td>Standard Industrial Classification Code that i...</td>\n      <td>string (default)</td>\n    </tr>\n    <tr>\n      <th>PRIMARY_SIC_CD_SFX</th>\n      <td>Suffix to the Standard Industrial Classificati...</td>\n      <td>string (default)</td>\n    </tr>\n    <tr>\n      <th>SECONDARY_SIC_CD</th>\n      <td>This is a code derived from the Standard Indus...</td>\n      <td>integer (default)</td>\n    </tr>\n    <tr>\n      <th>SECONDARY_SIC</th>\n      <td>Description of the Standard Industrial Classif...</td>\n      <td>string (default)</td>\n    </tr>\n    <tr>\n      <th>SECONDARY_SIC_CD_1</th>\n      <td>Standard Industrial Classification Code (SIC) ...</td>\n      <td>string (default)</td>\n    </tr>\n    <tr>\n      <th>SECONDARY_SIC_CD_SFX</th>\n      <td>Suffix to the Standard Industrial Classificati...</td>\n      <td>string (default)</td>\n    </tr>\n    <tr>\n      <th>PRIMARY_CANVASS_CD</th>\n      <td>Canvass code associated with the primary commo...</td>\n      <td>integer (default)</td>\n    </tr>\n    <tr>\n      <th>PRIMARY_CANVASS</th>\n      <td>Unique code abbreviation for the primary indus...</td>\n      <td>string (default)</td>\n    </tr>\n    <tr>\n      <th>SECONDARY_CANVASS_CD</th>\n      <td>Canvass code associated with the secondary com...</td>\n      <td>integer (default)</td>\n    </tr>\n    <tr>\n      <th>SECONDARY_CANVASS</th>\n      <td>Unique code abbreviation for the secondary ind...</td>\n      <td>string (default)</td>\n    </tr>\n    <tr>\n      <th>CURRENT_103I</th>\n      <td>This is the description of the Mine 103I Class...</td>\n      <td>string (default)</td>\n    </tr>\n    <tr>\n      <th>CURRENT_103I_DT</th>\n      <td>The date the mine entered the current 103I sta...</td>\n      <td>date (%Y-%m-%d)</td>\n    </tr>\n    <tr>\n      <th>PORTABLE_OPERATION</th>\n      <td>Indicates whether this is a portable mine or n...</td>\n      <td>boolean (default)</td>\n    </tr>\n    <tr>\n      <th>PORTABLE_FIPS_ST_CD</th>\n      <td>The Federal Information Processing Standards (...</td>\n      <td>integer (default)</td>\n    </tr>\n    <tr>\n      <th>DAYS_PER_WEEK</th>\n      <td>Number of days per week that the mine is opera...</td>\n      <td>integer (default)</td>\n    </tr>\n    <tr>\n      <th>HOURS_PER_SHIFT</th>\n      <td>Number of hours per shift at the mine. Entered...</td>\n      <td>integer (default)</td>\n    </tr>\n    <tr>\n      <th>PROD_SHIFTS_PER_DAY</th>\n      <td>Number of production shifts per 24-hour day. E...</td>\n      <td>integer (default)</td>\n    </tr>\n    <tr>\n      <th>MAINT_SHIFTS_PER_DAY</th>\n      <td>Number of maintenance-only shifts per 24-hour ...</td>\n      <td>integer (default)</td>\n    </tr>\n    <tr>\n      <th>NO_EMPLOYEES</th>\n      <td>Number of workers employed at the mine. Entere...</td>\n      <td>integer (default)</td>\n    </tr>\n    <tr>\n      <th>PART48_TRAINING</th>\n      <td>Indicates whether MSHA is restricted from enfo...</td>\n      <td>boolean (default)</td>\n    </tr>\n    <tr>\n      <th>LONGITUDE</th>\n      <td>Longitude denoting the mine location shown in ...</td>\n      <td>number (default)</td>\n    </tr>\n    <tr>\n      <th>LATITUDE</th>\n      <td>Latitude denoting the mine location shown in t...</td>\n      <td>number (default)</td>\n    </tr>\n    <tr>\n      <th>AVG_MINE_HEIGHT</th>\n      <td>Average mining height in inches. Coal mines on...</td>\n      <td>number (default)</td>\n    </tr>\n    <tr>\n      <th>MINE_GAS_CATEGORY_CD</th>\n      <td>This categorization is used by underground Met...</td>\n      <td>string (default)</td>\n    </tr>\n    <tr>\n      <th>METHANE_LIBERATION</th>\n      <td>Methane Liberation on Section (cubic feet each...</td>\n      <td>number (default)</td>\n    </tr>\n    <tr>\n      <th>NO_PRODUCING_PITS</th>\n      <td>Number of pits that are actively producing mat...</td>\n      <td>integer (default)</td>\n    </tr>\n    <tr>\n      <th>NO_NONPRODUCING_PITS</th>\n      <td>Number of pits that are not producing material...</td>\n      <td>integer (default)</td>\n    </tr>\n    <tr>\n      <th>NO_TAILING_PONDS</th>\n      <td>Number of tailing ponds (Metal/Non-Metal mines...</td>\n      <td>integer (default)</td>\n    </tr>\n    <tr>\n      <th>PILLAR_RECOVERY_USED</th>\n      <td>Indicator denoting whether or not a mine uses ...</td>\n      <td>boolean (default)</td>\n    </tr>\n    <tr>\n      <th>HIGHWALL_MINER_USED</th>\n      <td>Indicator denoting whether or not a mine uses ...</td>\n      <td>boolean (default)</td>\n    </tr>\n    <tr>\n      <th>MULTIPLE_PITS</th>\n      <td>Indicates whether there are multiple pits at t...</td>\n      <td>boolean (default)</td>\n    </tr>\n    <tr>\n      <th>MINERS_REP_IND</th>\n      <td>Indicates where there is a miners' representat...</td>\n      <td>boolean (default)</td>\n    </tr>\n    <tr>\n      <th>SAFETY_COMMITTEE_IND</th>\n      <td>Values are 'Y' or 'N'.</td>\n      <td>boolean (default)</td>\n    </tr>\n    <tr>\n      <th>MILES_FROM_OFFICE</th>\n      <td>Driving distance to the mine/mill from the off...</td>\n      <td>number (default)</td>\n    </tr>\n    <tr>\n      <th>DIRECTIONS_TO_MINE</th>\n      <td>Free-form description of directions on how to ...</td>\n      <td>string (default)</td>\n    </tr>\n    <tr>\n      <th>NEAREST_TOWN</th>\n      <td>Nearest town or city. Entered on Mine Informat...</td>\n      <td>string (default)</td>\n    </tr>\n  </tbody>\n</table>\n</div>"
     },
     "metadata": {},
     "execution_count": 34
    }
   ],
   "source": [
    "definitions[['Description', 'Type (Format)']]"
   ]
  },
  {
   "cell_type": "code",
   "execution_count": 3,
   "metadata": {},
   "outputs": [],
   "source": [
    "#a small function to quickly get the definition of a field/col\n",
    "\n",
    "def getDef(colname):\n",
    "    return definitions.loc[colname.upper()]['Description']"
   ]
  },
  {
   "cell_type": "markdown",
   "metadata": {},
   "source": [
    "From here on I'm just looking at columns that can act as filter, and then filter the dataset based on combining all these filters together.\n",
    "\n",
    "I also subset the dataset to keep what I think is relevant."
   ]
  },
  {
   "cell_type": "code",
   "execution_count": 36,
   "metadata": {},
   "outputs": [
    {
     "output_type": "execute_result",
     "data": {
      "text/plain": "'Current status of the mine. Values are Abandoned, Abandoned and Sealed, Active, Intermittent, New Mine, NonProducing and Temporarily Idled.'"
     },
     "metadata": {},
     "execution_count": 36
    }
   ],
   "source": [
    "getDef('current_mine_status')\n",
    "# Active, Intermittent, New Mine (only these?)"
   ]
  },
  {
   "cell_type": "code",
   "execution_count": 37,
   "metadata": {},
   "outputs": [
    {
     "output_type": "execute_result",
     "data": {
      "text/plain": "'Bureau of Mines (BOM) assigned state codes.'"
     },
     "metadata": {},
     "execution_count": 37
    }
   ],
   "source": [
    "getDef('BOM_STATE_CD')\n",
    "# maybe useful in reconciling duplicates"
   ]
  },
  {
   "cell_type": "code",
   "execution_count": 38,
   "metadata": {},
   "outputs": [
    {
     "output_type": "execute_result",
     "data": {
      "text/plain": "'The name of the office to which the mine is assigned.'"
     },
     "metadata": {},
     "execution_count": 38
    }
   ],
   "source": [
    "getDef('office_name')\n",
    "# important since they may be the main contact"
   ]
  },
  {
   "cell_type": "code",
   "execution_count": 39,
   "metadata": {},
   "outputs": [
    {
     "output_type": "execute_result",
     "data": {
      "text/plain": "'This is a code derived from the SIC codes to use as a primary key for the primary commodity extracted at a mine. If it is blank, a Mine Information Form (MIF) is required from the inspector to know the true SIC code. May contain null values.'"
     },
     "metadata": {},
     "execution_count": 39
    }
   ],
   "source": [
    "getDef('PRIMARY_SIC_CD')\n",
    "# important for identifying material types\n",
    "# can lookup here https://siccode.com/"
   ]
  },
  {
   "cell_type": "code",
   "execution_count": 40,
   "metadata": {},
   "outputs": [
    {
     "output_type": "execute_result",
     "data": {
      "text/plain": "'Unique code abbreviation for the primary industry group code for a mine. (1) Coal(Anthracite) SIC 123100; (2) Coal(Bituminous); (5) M/NM (Sand and Gravel); (6) M/NM (Stone); (7) NonMetal; (8) Metal. May contain null values.'"
     },
     "metadata": {},
     "execution_count": 40
    }
   ],
   "source": [
    "getDef('PRIMARY_CANVASS')"
   ]
  },
  {
   "cell_type": "code",
   "execution_count": 41,
   "metadata": {},
   "outputs": [],
   "source": [
    "#FIXME: need to refine this\n",
    "\n",
    "relevant_cols = ['CURRENT_MINE_NAME', 'CURRENT_MINE_TYPE', 'CURRENT_MINE_STATUS', 'CURRENT_CONTROLLER_NAME', 'CURRENT_OPERATOR_NAME', 'STATE', 'FIPS_CNTY_NM', 'OFFICE_NAME', 'PRIMARY_SIC', 'SECONDARY_SIC', 'PRIMARY_CANVASS', 'SECONDARY_CANVASS', 'NO_EMPLOYEES', 'LATITUDE', 'LONGITUDE', 'MILES_FROM_OFFICE', 'DIRECTIONS_TO_MINE', 'NEAREST_TOWN']"
   ]
  },
  {
   "cell_type": "code",
   "execution_count": 6,
   "metadata": {},
   "outputs": [],
   "source": [
    "#subset the data\n",
    "\n",
    "data = df[relevant_cols]"
   ]
  },
  {
   "cell_type": "code",
   "execution_count": 7,
   "metadata": {},
   "outputs": [
    {
     "output_type": "execute_result",
     "data": {
      "text/plain": "array(['Active', 'Abandoned', 'Abandoned and Sealed', 'NonProducing',\n       'Temporarily Idled', 'Intermittent', 'New Mine'], dtype=object)"
     },
     "metadata": {},
     "execution_count": 7
    }
   ],
   "source": [
    "#get all unique values of a column\n",
    "\n",
    "data['CURRENT_MINE_STATUS'].unique()"
   ]
  },
  {
   "cell_type": "code",
   "execution_count": 8,
   "metadata": {},
   "outputs": [],
   "source": [
    "#form a true/false vector from one of the column\n",
    "\n",
    "is_active = data['CURRENT_MINE_STATUS'] == 'Active'"
   ]
  },
  {
   "cell_type": "code",
   "execution_count": 9,
   "metadata": {},
   "outputs": [
    {
     "output_type": "execute_result",
     "data": {
      "text/plain": "array(['Surface', 'Underground', 'Facility', nan], dtype=object)"
     },
     "metadata": {},
     "execution_count": 9
    }
   ],
   "source": [
    "data['CURRENT_MINE_TYPE'].unique()\n"
   ]
  },
  {
   "cell_type": "code",
   "execution_count": 10,
   "metadata": {},
   "outputs": [],
   "source": [
    "# should we include facility?\n",
    "is_not_underground = data['CURRENT_MINE_TYPE'] != 'Underground'"
   ]
  },
  {
   "cell_type": "code",
   "execution_count": 11,
   "metadata": {},
   "outputs": [],
   "source": [
    "#make a set of all unique material in both columns\n",
    "\n",
    "all_materials = set(data['PRIMARY_SIC'].unique()).union(set(data['SECONDARY_SIC'].unique()))"
   ]
  },
  {
   "cell_type": "code",
   "execution_count": 12,
   "metadata": {
    "tags": []
   },
   "outputs": [
    {
     "output_type": "execute_result",
     "data": {
      "text/plain": "['Ground Silica',\n 'Dimension Stone NEC',\n 'Sand, Common',\n 'Sand, Industrial NEC',\n 'Crushed, Broken Basalt',\n 'Crushed, Broken Sandstone',\n 'Crushed, Broken Mica',\n 'Crushed, Broken Marble',\n 'Dimension Limestone',\n 'Dimension Sandstone',\n 'Crushed, Broken Granite',\n 'Construction Sand and Gravel',\n 'Cement',\n 'Crushed, Broken Stone NEC',\n 'Soapstone, Crushed Dimension',\n 'Crushed, Broken Traprock',\n 'Oil Sand',\n 'Crushed, Broken Slate',\n 'Quartz, Ground',\n 'Cristobalite, Ground',\n 'Lime',\n 'Crushed, Broken Quartzite',\n 'Crushed, Broken Limestone NEC']"
     },
     "metadata": {},
     "execution_count": 12
    }
   ],
   "source": [
    "# FIXME: this list of wanted materials should be refined!\n",
    "def is_wanted_materials(x):\n",
    "    # NOTE: maybe we can write a regex to replace this\n",
    "    wanted = ['lime', 'stone', 'sand', 'crushed', 'broken', 'ground', 'cement']\n",
    "    for i in wanted:\n",
    "        if i in str(x).lower() and str(x) != 'Gemstones':\n",
    "            return True\n",
    "    return False\n",
    "\n",
    "# filter out unwanted materials from the all_materials list\n",
    "target_materials = list(filter(is_wanted_materials, all_materials))\n",
    "target_materials"
   ]
  },
  {
   "cell_type": "code",
   "execution_count": 13,
   "metadata": {},
   "outputs": [],
   "source": [
    "# create two true/false vectors based on each product column\n",
    "\n",
    "is_target_primary_materials = df['PRIMARY_SIC'].apply(lambda x: x in target_materials)\n",
    "is_target_secondary_materials = df['SECONDARY_SIC'].apply(lambda x: x in target_materials)\n",
    "\n",
    "# any mine whose primary OR secondary product fall into the list count.\n",
    "is_target_materials = is_target_primary_materials | is_target_secondary_materials"
   ]
  },
  {
   "cell_type": "code",
   "execution_count": 14,
   "metadata": {},
   "outputs": [
    {
     "output_type": "execute_result",
     "data": {
      "text/plain": "array(['Stone', 'Nonmetal', 'Coal', 'Metal', 'SandAndGravel', nan],\n      dtype=object)"
     },
     "metadata": {},
     "execution_count": 14
    }
   ],
   "source": [
    "data['PRIMARY_CANVASS'].unique()"
   ]
  },
  {
   "cell_type": "code",
   "execution_count": 15,
   "metadata": {},
   "outputs": [
    {
     "output_type": "execute_result",
     "data": {
      "text/plain": "array(['Stone', nan, 'Nonmetal', 'Metal', 'SandAndGravel', 'Coal'],\n      dtype=object)"
     },
     "metadata": {},
     "execution_count": 15
    }
   ],
   "source": [
    "data['SECONDARY_CANVASS'].unique()"
   ]
  },
  {
   "cell_type": "code",
   "execution_count": 16,
   "metadata": {},
   "outputs": [],
   "source": [
    "#FIXME: need to refine the target_canvass list\n",
    "\n",
    "target_canvass = ['Stone', 'Nonmetal', 'SandAndGravel']\n",
    "\n",
    "# same as above, but for canvass this time\n",
    "is_target_primary_canvass = data['PRIMARY_CANVASS'].apply(lambda x: x in target_canvass)\n",
    "is_target_secondary_canvass = data['SECONDARY_CANVASS'].apply(lambda x: x in target_canvass)\n",
    "\n",
    "# combine into one condition\n",
    "is_target_canvass = is_target_primary_canvass | is_target_secondary_canvass"
   ]
  },
  {
   "cell_type": "code",
   "execution_count": 17,
   "metadata": {},
   "outputs": [
    {
     "output_type": "execute_result",
     "data": {
      "text/plain": "0.0      34523\n2.0       2890\n3.0       1962\n1.0       1356\n4.0       1291\n         ...  \n241.0        1\n171.0        1\n605.0        1\n939.0        1\n106.0        1\nName: NO_EMPLOYEES, Length: 292, dtype: int64"
     },
     "metadata": {},
     "execution_count": 17
    }
   ],
   "source": [
    "#FIXME: some mines have just 1 employee, should they be excluded? Is no. of employees a good indicator?\n",
    "\n",
    "data['NO_EMPLOYEES'].value_counts() \n",
    "#similar to a historgram\n",
    "#number of emps is the 1st col, no. of appearances the 2nd"
   ]
  },
  {
   "cell_type": "code",
   "execution_count": 23,
   "metadata": {},
   "outputs": [],
   "source": [
    "#FIXME: just my personal limit\n",
    "has_at_least_5_emps = data['NO_EMPLOYEES'] >= 5"
   ]
  },
  {
   "cell_type": "code",
   "execution_count": 24,
   "metadata": {},
   "outputs": [],
   "source": [
    "# some booleans thing here \n",
    "# need to figure out the relationship between them\n",
    "\n",
    "conditions = (is_active & is_not_underground & is_target_materials & is_target_canvass & has_at_least_5_emps)"
   ]
  },
  {
   "cell_type": "code",
   "execution_count": 55,
   "metadata": {},
   "outputs": [],
   "source": [
    "filtered_data = data[conditions]"
   ]
  },
  {
   "cell_type": "code",
   "execution_count": 56,
   "metadata": {},
   "outputs": [
    {
     "output_type": "execute_result",
     "data": {
      "text/plain": "3220"
     },
     "metadata": {},
     "execution_count": 56
    }
   ],
   "source": [
    "len(filtered_data)\n",
    "# there's only abt 3000 rows left"
   ]
  },
  {
   "cell_type": "code",
   "execution_count": 44,
   "metadata": {},
   "outputs": [],
   "source": [
    "# save filtered_data to a csv file\n",
    "pd.DataFrame.to_csv(filtered_data, './data/filtered_mine_data.csv')"
   ]
  },
  {
   "cell_type": "code",
   "execution_count": 57,
   "metadata": {},
   "outputs": [],
   "source": [
    "filtered_data.reset_index(inplace=True)"
   ]
  },
  {
   "cell_type": "code",
   "execution_count": 58,
   "metadata": {},
   "outputs": [
    {
     "output_type": "execute_result",
     "data": {
      "text/plain": "      index      CURRENT_MINE_NAME CURRENT_MINE_TYPE CURRENT_MINE_STATUS  \\\n0         0   O'Neal Quarry & Mill           Surface              Active   \n1         1      Brierfield Quarry           Surface              Active   \n2         3          Auburn Quarry           Surface              Active   \n3         4         Landmark Plant           Surface              Active   \n4         5         Dolcito Quarry           Surface              Active   \n...     ...                    ...               ...                 ...   \n3215  88367  Arenas de Puerto Rico           Surface              Active   \n3216  88381         La Furia, Inc.           Surface              Active   \n3217  88388          Aggregate,Inc           Surface              Active   \n3218  88390     Springfield Quarry           Surface              Active   \n3219  88393        Brookman Quarry           Surface              Active   \n\n            CURRENT_CONTROLLER_NAME                 CURRENT_OPERATOR_NAME  \\\n0                      Lhoist Group  Lhoist North America of Alabama, LLC   \n1                      Lhoist Group  Lhoist North America of Alabama, LLC   \n2     Martin Marietta Materials Inc       Martin Marietta Materials, Inc.   \n3                    Alan B  Cheney          Cheney Lime & Cement Company   \n4          Vulcan Materials Company    Vulcan Construction Materials, LLC   \n...                             ...                                   ...   \n3215                      Jim  Cruz                   Concretos de PR Inc   \n3216              Jose A  Rodriguez                            AGGREGATES   \n3217           Carlos Ortiz  Brunet                         Aggregate,Inc   \n3218                    US Concrete                   Heavy Materials LLC   \n3219                    US Concrete                   Heavy Materials LLC   \n\n     STATE FIPS_CNTY_NM                     OFFICE_NAME  \\\n0       AL       Shelby  Birmingham AL Field Office (A)   \n1       AL         Bibb  Birmingham AL Field Office (A)   \n2       AL          Lee  Birmingham AL Field Office (A)   \n3       AL       Shelby  Birmingham AL Field Office (A)   \n4       AL    Jefferson  Birmingham AL Field Office (A)   \n...    ...          ...                             ...   \n3215    PR      Humacao        San Juan PR Field Office   \n3216    PR      Arecibo        San Juan PR Field Office   \n3217    PR     Carolina        San Juan PR Field Office   \n3218    VI     St Croix        San Juan PR Field Office   \n3219    VI    St Thomas        San Juan PR Field Office   \n\n                        PRIMARY_SIC                  SECONDARY_SIC  \\\n0                              Lime  Crushed, Broken Limestone NEC   \n1     Crushed, Broken Limestone NEC            Dimension Limestone   \n2     Crushed, Broken Limestone NEC                            NaN   \n3                              Lime  Crushed, Broken Limestone NEC   \n4     Crushed, Broken Limestone NEC                            NaN   \n...                             ...                            ...   \n3215   Construction Sand and Gravel                            NaN   \n3216  Crushed, Broken Limestone NEC                            NaN   \n3217      Crushed, Broken Stone NEC                            NaN   \n3218       Crushed, Broken Traprock                            NaN   \n3219  Crushed, Broken Limestone NEC                            NaN   \n\n     PRIMARY_CANVASS SECONDARY_CANVASS  NO_EMPLOYEES   LATITUDE  LONGITUDE  \\\n0              Stone             Stone         108.0  38.256389  85.753333   \n1              Stone             Stone          28.0  33.038056  86.963333   \n2              Stone               NaN          15.0  32.530556  85.470556   \n3              Stone             Stone          33.0  33.351176  86.657568   \n4              Stone               NaN          22.0  33.586388  86.763333   \n...              ...               ...           ...        ...        ...   \n3215   SandAndGravel               NaN           5.0  18.250000  65.909444   \n3216           Stone               NaN          11.0  18.450556  66.538611   \n3217           Stone               NaN          15.0  18.253769  65.976089   \n3218           Stone               NaN          23.0  17.713611  64.882778   \n3219           Stone               NaN          20.0  18.340833  64.919167   \n\n      MILES_FROM_OFFICE                                 DIRECTIONS_TO_MINE  \\\n0                   100  Approx 7 miles south of the city of Alabaster ...   \n1                    35  I-65 SOUTH EXIT US 31 TO CALERA, TURN RIGHT ON...   \n2                   140  85 to Hwy. 29 South to County Rd. 10; turn lef...   \n3                    25  I-65 S to exit 238; right on Hwy 31 1/8 miles ...   \n4                    10  I-65 N to I-59 N to Tallapoosa St. exit. Mine ...   \n...                 ...                                                ...   \n3215                 30                     PR 185 INt. PR 9185, Juncos PR   \n3216                 50  Highway 22 West. Exit 53 towards State Road #2...   \n3217                 35         10 miles aprox from South side of Carolina   \n3218                  0                            8 Miles to Frederiksted   \n3219                  0  Airport Through Town.  Up Raphune Hill to Ft. ...   \n\n        NEAREST_TOWN  \n0             Calera  \n1         Brierfield  \n2             Auburn  \n3          Alabaster  \n4            Tarrant  \n...              ...  \n3215         Humacao  \n3216     Barceloneta  \n3217        Carolina  \n3218  Frederiksted    \n3219       Marindahl  \n\n[3220 rows x 19 columns]",
      "text/html": "<div>\n<style scoped>\n    .dataframe tbody tr th:only-of-type {\n        vertical-align: middle;\n    }\n\n    .dataframe tbody tr th {\n        vertical-align: top;\n    }\n\n    .dataframe thead th {\n        text-align: right;\n    }\n</style>\n<table border=\"1\" class=\"dataframe\">\n  <thead>\n    <tr style=\"text-align: right;\">\n      <th></th>\n      <th>index</th>\n      <th>CURRENT_MINE_NAME</th>\n      <th>CURRENT_MINE_TYPE</th>\n      <th>CURRENT_MINE_STATUS</th>\n      <th>CURRENT_CONTROLLER_NAME</th>\n      <th>CURRENT_OPERATOR_NAME</th>\n      <th>STATE</th>\n      <th>FIPS_CNTY_NM</th>\n      <th>OFFICE_NAME</th>\n      <th>PRIMARY_SIC</th>\n      <th>SECONDARY_SIC</th>\n      <th>PRIMARY_CANVASS</th>\n      <th>SECONDARY_CANVASS</th>\n      <th>NO_EMPLOYEES</th>\n      <th>LATITUDE</th>\n      <th>LONGITUDE</th>\n      <th>MILES_FROM_OFFICE</th>\n      <th>DIRECTIONS_TO_MINE</th>\n      <th>NEAREST_TOWN</th>\n    </tr>\n  </thead>\n  <tbody>\n    <tr>\n      <th>0</th>\n      <td>0</td>\n      <td>O'Neal Quarry &amp; Mill</td>\n      <td>Surface</td>\n      <td>Active</td>\n      <td>Lhoist Group</td>\n      <td>Lhoist North America of Alabama, LLC</td>\n      <td>AL</td>\n      <td>Shelby</td>\n      <td>Birmingham AL Field Office (A)</td>\n      <td>Lime</td>\n      <td>Crushed, Broken Limestone NEC</td>\n      <td>Stone</td>\n      <td>Stone</td>\n      <td>108.0</td>\n      <td>38.256389</td>\n      <td>85.753333</td>\n      <td>100</td>\n      <td>Approx 7 miles south of the city of Alabaster ...</td>\n      <td>Calera</td>\n    </tr>\n    <tr>\n      <th>1</th>\n      <td>1</td>\n      <td>Brierfield Quarry</td>\n      <td>Surface</td>\n      <td>Active</td>\n      <td>Lhoist Group</td>\n      <td>Lhoist North America of Alabama, LLC</td>\n      <td>AL</td>\n      <td>Bibb</td>\n      <td>Birmingham AL Field Office (A)</td>\n      <td>Crushed, Broken Limestone NEC</td>\n      <td>Dimension Limestone</td>\n      <td>Stone</td>\n      <td>Stone</td>\n      <td>28.0</td>\n      <td>33.038056</td>\n      <td>86.963333</td>\n      <td>35</td>\n      <td>I-65 SOUTH EXIT US 31 TO CALERA, TURN RIGHT ON...</td>\n      <td>Brierfield</td>\n    </tr>\n    <tr>\n      <th>2</th>\n      <td>3</td>\n      <td>Auburn Quarry</td>\n      <td>Surface</td>\n      <td>Active</td>\n      <td>Martin Marietta Materials Inc</td>\n      <td>Martin Marietta Materials, Inc.</td>\n      <td>AL</td>\n      <td>Lee</td>\n      <td>Birmingham AL Field Office (A)</td>\n      <td>Crushed, Broken Limestone NEC</td>\n      <td>NaN</td>\n      <td>Stone</td>\n      <td>NaN</td>\n      <td>15.0</td>\n      <td>32.530556</td>\n      <td>85.470556</td>\n      <td>140</td>\n      <td>85 to Hwy. 29 South to County Rd. 10; turn lef...</td>\n      <td>Auburn</td>\n    </tr>\n    <tr>\n      <th>3</th>\n      <td>4</td>\n      <td>Landmark Plant</td>\n      <td>Surface</td>\n      <td>Active</td>\n      <td>Alan B  Cheney</td>\n      <td>Cheney Lime &amp; Cement Company</td>\n      <td>AL</td>\n      <td>Shelby</td>\n      <td>Birmingham AL Field Office (A)</td>\n      <td>Lime</td>\n      <td>Crushed, Broken Limestone NEC</td>\n      <td>Stone</td>\n      <td>Stone</td>\n      <td>33.0</td>\n      <td>33.351176</td>\n      <td>86.657568</td>\n      <td>25</td>\n      <td>I-65 S to exit 238; right on Hwy 31 1/8 miles ...</td>\n      <td>Alabaster</td>\n    </tr>\n    <tr>\n      <th>4</th>\n      <td>5</td>\n      <td>Dolcito Quarry</td>\n      <td>Surface</td>\n      <td>Active</td>\n      <td>Vulcan Materials Company</td>\n      <td>Vulcan Construction Materials, LLC</td>\n      <td>AL</td>\n      <td>Jefferson</td>\n      <td>Birmingham AL Field Office (A)</td>\n      <td>Crushed, Broken Limestone NEC</td>\n      <td>NaN</td>\n      <td>Stone</td>\n      <td>NaN</td>\n      <td>22.0</td>\n      <td>33.586388</td>\n      <td>86.763333</td>\n      <td>10</td>\n      <td>I-65 N to I-59 N to Tallapoosa St. exit. Mine ...</td>\n      <td>Tarrant</td>\n    </tr>\n    <tr>\n      <th>...</th>\n      <td>...</td>\n      <td>...</td>\n      <td>...</td>\n      <td>...</td>\n      <td>...</td>\n      <td>...</td>\n      <td>...</td>\n      <td>...</td>\n      <td>...</td>\n      <td>...</td>\n      <td>...</td>\n      <td>...</td>\n      <td>...</td>\n      <td>...</td>\n      <td>...</td>\n      <td>...</td>\n      <td>...</td>\n      <td>...</td>\n      <td>...</td>\n    </tr>\n    <tr>\n      <th>3215</th>\n      <td>88367</td>\n      <td>Arenas de Puerto Rico</td>\n      <td>Surface</td>\n      <td>Active</td>\n      <td>Jim  Cruz</td>\n      <td>Concretos de PR Inc</td>\n      <td>PR</td>\n      <td>Humacao</td>\n      <td>San Juan PR Field Office</td>\n      <td>Construction Sand and Gravel</td>\n      <td>NaN</td>\n      <td>SandAndGravel</td>\n      <td>NaN</td>\n      <td>5.0</td>\n      <td>18.250000</td>\n      <td>65.909444</td>\n      <td>30</td>\n      <td>PR 185 INt. PR 9185, Juncos PR</td>\n      <td>Humacao</td>\n    </tr>\n    <tr>\n      <th>3216</th>\n      <td>88381</td>\n      <td>La Furia, Inc.</td>\n      <td>Surface</td>\n      <td>Active</td>\n      <td>Jose A  Rodriguez</td>\n      <td>AGGREGATES</td>\n      <td>PR</td>\n      <td>Arecibo</td>\n      <td>San Juan PR Field Office</td>\n      <td>Crushed, Broken Limestone NEC</td>\n      <td>NaN</td>\n      <td>Stone</td>\n      <td>NaN</td>\n      <td>11.0</td>\n      <td>18.450556</td>\n      <td>66.538611</td>\n      <td>50</td>\n      <td>Highway 22 West. Exit 53 towards State Road #2...</td>\n      <td>Barceloneta</td>\n    </tr>\n    <tr>\n      <th>3217</th>\n      <td>88388</td>\n      <td>Aggregate,Inc</td>\n      <td>Surface</td>\n      <td>Active</td>\n      <td>Carlos Ortiz  Brunet</td>\n      <td>Aggregate,Inc</td>\n      <td>PR</td>\n      <td>Carolina</td>\n      <td>San Juan PR Field Office</td>\n      <td>Crushed, Broken Stone NEC</td>\n      <td>NaN</td>\n      <td>Stone</td>\n      <td>NaN</td>\n      <td>15.0</td>\n      <td>18.253769</td>\n      <td>65.976089</td>\n      <td>35</td>\n      <td>10 miles aprox from South side of Carolina</td>\n      <td>Carolina</td>\n    </tr>\n    <tr>\n      <th>3218</th>\n      <td>88390</td>\n      <td>Springfield Quarry</td>\n      <td>Surface</td>\n      <td>Active</td>\n      <td>US Concrete</td>\n      <td>Heavy Materials LLC</td>\n      <td>VI</td>\n      <td>St Croix</td>\n      <td>San Juan PR Field Office</td>\n      <td>Crushed, Broken Traprock</td>\n      <td>NaN</td>\n      <td>Stone</td>\n      <td>NaN</td>\n      <td>23.0</td>\n      <td>17.713611</td>\n      <td>64.882778</td>\n      <td>0</td>\n      <td>8 Miles to Frederiksted</td>\n      <td>Frederiksted</td>\n    </tr>\n    <tr>\n      <th>3219</th>\n      <td>88393</td>\n      <td>Brookman Quarry</td>\n      <td>Surface</td>\n      <td>Active</td>\n      <td>US Concrete</td>\n      <td>Heavy Materials LLC</td>\n      <td>VI</td>\n      <td>St Thomas</td>\n      <td>San Juan PR Field Office</td>\n      <td>Crushed, Broken Limestone NEC</td>\n      <td>NaN</td>\n      <td>Stone</td>\n      <td>NaN</td>\n      <td>20.0</td>\n      <td>18.340833</td>\n      <td>64.919167</td>\n      <td>0</td>\n      <td>Airport Through Town.  Up Raphune Hill to Ft. ...</td>\n      <td>Marindahl</td>\n    </tr>\n  </tbody>\n</table>\n<p>3220 rows × 19 columns</p>\n</div>"
     },
     "metadata": {},
     "execution_count": 58
    }
   ],
   "source": [
    "filtered_data"
   ]
  },
  {
   "cell_type": "markdown",
   "metadata": {},
   "source": [
    "My thought is that we can take all the unique values in cols that can be used as filter, and then make a small online survey\n",
    "\n",
    "Our client can then open a link and tick what he think is relevant. We can also add a checkbox so that he can comment as well. A sample question could be like:\n",
    "\n",
    "Please tick all materials that you think is relevant: \n",
    "\n",
    "*a checkbox-list of all materials from the dataset*\n",
    "\n",
    "Of course, for some question the client may just need to say yes/no or give a short answer, for example the NO._EMPLOYEES column."
   ]
  },
  {
   "cell_type": "code",
   "execution_count": null,
   "metadata": {},
   "outputs": [],
   "source": []
  }
 ],
 "metadata": {
  "language_info": {
   "codemirror_mode": {
    "name": "ipython",
    "version": 3
   },
   "file_extension": ".py",
   "mimetype": "text/x-python",
   "name": "python",
   "nbconvert_exporter": "python",
   "pygments_lexer": "ipython3",
   "version": "3.8.2-final"
  },
  "orig_nbformat": 2,
  "kernelspec": {
   "name": "python38264bitvenvvenvfd454f2dc06d49eabfd9fc07a02f0914",
   "display_name": "Python 3.8.2 64-bit ('venv': venv)"
  }
 },
 "nbformat": 4,
 "nbformat_minor": 2
}